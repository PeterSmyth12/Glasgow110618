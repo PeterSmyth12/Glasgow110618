{
 "cells": [
  {
   "cell_type": "code",
   "execution_count": null,
   "metadata": {
    "collapsed": true
   },
   "outputs": [],
   "source": [
    "import requests\n",
    "import json\n",
    "import codecs"
   ]
  },
  {
   "cell_type": "markdown",
   "metadata": {},
   "source": [
    "Get a list of sites and write them to a file "
   ]
  },
  {
   "cell_type": "code",
   "execution_count": null,
   "metadata": {
    "collapsed": true
   },
   "outputs": [],
   "source": [
    "import codecs\n",
    "import requests\n",
    "import json\n",
    "\n",
    "URL = \"http://datapoint.metoffice.gov.uk/public/data/val/wxfcs/all/json/sitelist?key=0214dd6a-9ad5-4f34-8015-c0442079f40f\"\n",
    "response  = requests.get(URL)\n",
    "data = json.loads(response.text)\n",
    "\n",
    "fw = codecs.open('sitelist.csv', 'w', 'utf-8')\n",
    "\n",
    "for x in data[\"Locations\"][\"Location\"]:\n",
    "    cline = x[\"name\"]+\",\"+x[\"id\"]+\"\\n\"\n",
    "    fw.write(cline)\n",
    "    \n",
    "fw.close()"
   ]
  },
  {
   "cell_type": "markdown",
   "metadata": {},
   "source": [
    "From the file find the site id for Glasgow (310009)\n",
    "\n",
    "Now get the weather for Glasgow"
   ]
  },
  {
   "cell_type": "code",
   "execution_count": null,
   "metadata": {
    "collapsed": false
   },
   "outputs": [],
   "source": [
    "URL = \"http://datapoint.metoffice.gov.uk/public/data/val/wxfcs/all/json/310009?res=3hourly&key=0214dd6a-9ad5-4f34-8015-c0442079f40f\"\n",
    "response  = requests.get(URL)\n",
    "print response.text"
   ]
  },
  {
   "cell_type": "code",
   "execution_count": null,
   "metadata": {
    "collapsed": false
   },
   "outputs": [],
   "source": [
    "print type(response)\n",
    "print type(response.text)"
   ]
  },
  {
   "cell_type": "markdown",
   "metadata": {},
   "source": [
    "The first output is not very readable, so we will do it again and format the output to make it more readable."
   ]
  },
  {
   "cell_type": "code",
   "execution_count": null,
   "metadata": {
    "collapsed": false
   },
   "outputs": [],
   "source": [
    "data = json.loads(response.text)\n",
    "print type(data)\n",
    "print json.dumps(data, indent=2)"
   ]
  },
  {
   "cell_type": "code",
   "execution_count": 56,
   "metadata": {
    "collapsed": false
   },
   "outputs": [
    {
     "name": "stdout",
     "output_type": "stream",
     "text": [
      "GLASGOW, 310009, Day, 2018-06-08Z, 19, 11\n"
     ]
    }
   ],
   "source": [
    "URL = \"http://datapoint.metoffice.gov.uk/public/data/val/wxfcs/all/json/310009?res=daily&key=0214dd6a-9ad5-4f34-8015-c0442079f40f\"\n",
    "response  = requests.get(URL)\n",
    "\n",
    "data = json.loads(response.text)\n",
    "\n",
    "\n",
    "print data[\"SiteRep\"][\"DV\"][\"Location\"][\"name\"] + \", \" + \\\n",
    "      data[\"SiteRep\"][\"DV\"][\"Location\"][\"i\"] + \", \" + \\\n",
    "      data[\"SiteRep\"][\"DV\"][\"Location\"][\"Period\"][0][\"type\"] + \", \" + \\\n",
    "      data[\"SiteRep\"][\"DV\"][\"Location\"][\"Period\"][0][\"value\"] + \", \" + \\\n",
    "      data[\"SiteRep\"][\"DV\"][\"Location\"][\"Period\"][0][\"Rep\"][0][\"Dm\"] + \", \" + \\\n",
    "      data[\"SiteRep\"][\"DV\"][\"Location\"][\"Period\"][0][\"Rep\"][1][\"Nm\"]\n"
   ]
  },
  {
   "cell_type": "code",
   "execution_count": null,
   "metadata": {
    "collapsed": true
   },
   "outputs": [],
   "source": [
    "URL = \"http://datapoint.metoffice.gov.uk/public/data/val/wxfcs/all/json/310009?res=daily&key=0214dd6a-9ad5-4f34-8015-c0442079f40f\"\n",
    "response  = requests.get(URL)\n",
    "\n",
    "data = json.loads(response.text)\n",
    "\n",
    "cline1 = data[\"SiteRep\"][\"DV\"][\"Location\"][\"name\"] + \", \" + \\\n",
    "         data[\"SiteRep\"][\"DV\"][\"Location\"][\"i\"] + \", \"\n",
    "for x in  data[\"SiteRep\"][\"DV\"][\"Location\"][\"Period\"]:\n",
    "    cline2 = cline1 + x[\"type\"] + \", \" + x[\"value\"] + \", \" + x[\"Rep\"][0][\"Dm\"] + \", \" + x[\"Rep\"][1][\"Nm\"]\n",
    "    print cline2\n"
   ]
  },
  {
   "cell_type": "code",
   "execution_count": null,
   "metadata": {
    "collapsed": false,
    "scrolled": false
   },
   "outputs": [],
   "source": [
    "fw = codecs.open('glasgow_data.csv', 'w', 'utf-8')\n",
    "\n",
    "cline1 = data[\"SiteRep\"][\"DV\"][\"Location\"][\"name\"] + \",\" + data[\"SiteRep\"][\"DV\"][\"Location\"][\"i\"]\n",
    "for x in data[\"SiteRep\"][\"DV\"][\"Location\"][\"Period\"]:\n",
    "    cline2 = cline1 + \",\" + x[\"type\"]+ \",\" + x[\"value\"]+ \",\" + x[\"Rep\"][0][\"Dm\"] + \",\" + x[\"Rep\"][1][\"Nm\"] + \"\\n\"\n",
    "    fw.write(cline2)\n",
    "    \n",
    "fw.close()"
   ]
  },
  {
   "cell_type": "code",
   "execution_count": null,
   "metadata": {},
   "outputs": [],
   "source": []
  }
 ],
 "metadata": {
  "kernelspec": {
   "display_name": "Python 2",
   "language": "python",
   "name": "python2"
  },
  "language_info": {
   "codemirror_mode": {
    "name": "ipython",
    "version": 2
   },
   "file_extension": ".py",
   "mimetype": "text/x-python",
   "name": "python",
   "nbconvert_exporter": "python",
   "pygments_lexer": "ipython2",
   "version": "2.7.14"
  }
 },
 "nbformat": 4,
 "nbformat_minor": 2
}
